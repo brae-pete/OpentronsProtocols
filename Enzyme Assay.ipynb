{
 "cells": [
  {
   "cell_type": "code",
   "execution_count": 1,
   "metadata": {
    "scrolled": true
   },
   "outputs": [
    {
     "name": "stdout",
     "output_type": "stream",
     "text": [
      "Loading json containers...\n",
      "Json container file load complete, listing database\n",
      "Found 0 containers to add. Starting migration...\n",
      "Database migration complete!\n"
     ]
    },
    {
     "name": "stderr",
     "output_type": "stream",
     "text": [
      "C:\\Users\\Simulation\\.opentrons\\deck_calibration.json not found. Loading defaults\n",
      "C:\\Users\\Simulation\\.opentrons\\robot_settings.json not found. Loading defaults\n"
     ]
    }
   ],
   "source": [
    "from opentrons import protocol_api, types\n",
    "from opentrons import containers\n",
    "import time\n",
    "import csv"
   ]
  },
  {
   "cell_type": "code",
   "execution_count": 6,
   "metadata": {},
   "outputs": [
    {
     "name": "stdout",
     "output_type": "stream",
     "text": [
      "Overwriting enzyme_protocol.py\n"
     ]
    }
   ],
   "source": [
    "%%writefile enzyme_protocol.py \n",
    "\n",
    "from opentrons import protocol_api, types\n",
    "\n",
    "import time\n",
    "import csv\n",
    "\n",
    "metadata = {\n",
    "    'protocolName': 'My Protocol',\n",
    "    'author': 'Brae <bpeter2@uw.edu>',\n",
    "    'description': 'Simple protocol to get started using OT2',\n",
    "    'apiLevel': '2.3'\n",
    "}\n",
    "\n",
    "\n",
    "def run(protocol:protocol_api.ProtocolContext):\n",
    "    \n",
    "    \"\"\"\n",
    "    Creates 2 tip racks,1x 15 mL reservoit, 1x 24 position tube, 1x 96 position\n",
    "    \n",
    "    Transfer 100 uL \n",
    "    \"\"\"\n",
    "    # Load Tips\n",
    "    tip_20 = protocol.load_labware('opentrons_96_filtertiprack_20ul',1)\n",
    "    tip_200 = protocol.load_labware('opentrons_96_filtertiprack_200ul',2)\n",
    "    \n",
    "    #Load Liquid reservoirs\n",
    "    reservoir = protocol.load_labware('nest_12_reservoir_15ml', 4)\n",
    "    block_96well = protocol.load_labware('opentrons_96_aluminumblock_generic_pcr_strip_200ul',5)\n",
    "    \n",
    "    #Load Pipettes\n",
    "    p20 = protocol.load_instrument('p20_single_gen2', 'left', tip_racks = [tip_20])\n",
    "    p300_multi = protocol.load_instrument('p300_multi_gen2', 'right', tip_racks = [tip_200])\n",
    "\n",
    "    #Load Modules\n",
    "    thermal = protocol.load_module(\"temperature module gen2\", 10)\n",
    "    thermal_wells = thermal.load_labware('opentrons_24_aluminumblock_generic_2ml_screwcap',label=\"Enzyme Reactions\")\n",
    "    \n",
    "    # Set temperature and wait\n",
    "    thermal.set_temperature(37)\n",
    "    \n",
    "    #Designate Liquids\n",
    "    time_points = [1,25,25,25,25,25,25] # When to take time point measurements\n",
    "    \n",
    "    enzyme_reactions = thermal_wells.wells()[0:2]\n",
    "    acid_solution = reservoir.wells()[0]\n",
    "    neutral_buffer = reservoir.wells()[1]\n",
    "    protocol.pause(f\"Please check: Acid at {acid_solution}, buffer at {neutral_buffer}, \" \\\n",
    "                   f\"and samples from {block_96well.wells()[0]} to {block_96well.wells()[len(time_points)*len(enzyme_reactions)]} \" \\\n",
    "                   \"Press Resume to continue\")\n",
    "\n",
    "    protocol.pause(\"Thermal is at {:.2f}. Please load samples to thermal block: {}. Press Resume to continue\".format(thermal.temperature,enzyme_reactions))\n",
    "    start_time = time.time()\n",
    "    \n",
    "\n",
    "    \n",
    "    # Be prepared to record information \n",
    "    data = {'time':[],'sample_location':[], 'enzyme_location':[],'time_of_transfer':[]}\n",
    "    #file_out = open('enzyme_reaction.csv','a', newline='')\n",
    "    #data_out = csv.DictWriter(file_out, data.keys())\n",
    "    #data_out.writeheader()\n",
    "    \n",
    "    \n",
    "    sample_idx = 0\n",
    "    samples=[]\n",
    "    for idx, time_delay in enumerate(time_points):\n",
    "        protocol.delay(time_delay*60)\n",
    "        sample_wells = block_96well.wells()[sample_idx:sample_idx+len(enzyme_reactions)]\n",
    "        sample_idx += len(enzyme_reactions)\n",
    "        p20.transfer(9, acid_solution, sample_wells)\n",
    "        samples.extend(sample_wells)\n",
    "        for enzyme_reaction, sample_well in zip(enzyme_reactions, sample_wells):\n",
    "            p20.transfer(1, [enzyme_reaction],[sample_well], new_tip = 'always', mix_after=(5,10))\n",
    "            transfer_time = time.time() - start_time\n",
    "\n",
    "            \n",
    "            # Store data in dict and write to csv\n",
    "            data['time'].append(time_delay)\n",
    "            data['time_of_transfer'].append(transfer_time)\n",
    "            data['sample_location'].append(sample_well)\n",
    "            data['enzyme_location'].append(enzyme_reaction)\n",
    "            #data_out.writerow({'time':time_delay,'enzyme_location':enzyme_reaction,\n",
    "            #               'time_of_transfer':transfer_time,'sample_location':sample_well})\n",
    "    \n",
    "    #file_out.close()\n",
    "\n",
    "\n",
    "    #Fill the PCR tubes with samples (create the first sample, then serially dilute from that)\n",
    "    print(neutral_buffer, samples[0])\n",
    "    #p300_multi.move_to(protocol.deck.position_for('5').move(types.Point(z=100)))\n",
    "    #p300_multi.transfer(190, [neutral_buffer], samples[0], mix_after=(5,150),new_tip='always', blow_out=True)\n",
    "    \n",
    "    return (neutral_buffer, samples)\n",
    "\n"
   ]
  },
  {
   "cell_type": "code",
   "execution_count": 2,
   "metadata": {},
   "outputs": [
    {
     "name": "stdout",
     "output_type": "stream",
     "text": [
      "Overwriting enzyme_protocol.py\n"
     ]
    }
   ],
   "source": [
    "%%writefile enzyme_protocol.py \n",
    "\n",
    "from opentrons import protocol_api, types\n",
    "from opentrons import containers\n",
    "import time\n",
    "import csv\n",
    "\n",
    "metadata = {\n",
    "    'protocolName': 'My Protocol',\n",
    "    'author': 'Brae <bpeter2@uw.edu>',\n",
    "    'description': 'Simple protocol to get started using OT2',\n",
    "    'apiLevel': '2.3'\n",
    "}\n",
    "\n",
    "\n",
    "def run(protocol:protocol_api.ProtocolContext):\n",
    "    \n",
    "    \"\"\"\n",
    "    Creates 2 tip racks,1x 15 mL reservoit, 1x 24 position tube, 1x 96 position\n",
    "    \n",
    "    Transfer 100 uL \n",
    "    \"\"\"\n",
    "    \n",
    "    \"\"\"\n",
    "    Creates 2 tip racks,1x 15 mL reservoit, 1x 24 position tube, 1x 96 position\n",
    "    \n",
    "    Transfer 100 uL \n",
    "    \"\"\"\n",
    "    tip_20 = protocol.load_labware('opentrons_96_filtertiprack_20ul',1)\n",
    "    tip_200 = protocol.load_labware('opentrons_96_filtertiprack_200ul',2)\n",
    "    \n",
    "    reservoir = protocol.load_labware('nest_12_reservoir_15ml', 3)\n",
    "    \n",
    "    block_24well = protocol.load_labware('opentrons_24_aluminumblock_nest_1.5ml_snapcap',4)\n",
    "    block_96well = protocol.load_labware('opentrons_96_aluminumblock_generic_pcr_strip_200ul',5)\n",
    "\n",
    "    p20 = protocol.load_instrument('p20_single_gen2', 'left', tip_racks = [tip_20])\n",
    "    p300_multi = protocol.load_instrument('p300_multi_gen2', 'right', tip_racks = [tip_200])\n",
    "    \n",
    "    \n",
    "    #Prepare to fill the PCR tubes, change the offset, and transfer liquid\n",
    "    p300_multi.well_bottom_clearance.dispense = 3 # Raise the tip up slightly from the bottom\n",
    "    p300_multi.well_bottom_clearance.aspirate = 3\n",
    "    \n",
    "    cols = [block_96well.columns_by_name()[well_id] for well_id in ['1','2']]\n",
    "    p300_multi.distribute(20*3,reservoir.wells_by_name()['A1'], cols)\n",
    "\n",
    "    \n",
    "    #Fill the PCR tubes with samples (create the first sample, then serially dilute from that)\n",
    "    p20.pick_up_tip()\n",
    "    p20.transfer(20, block_24well.wells_by_name()['A1'], block_96well.wells_by_name()['A1'], new_tip='never')\n",
    "    quick_mix(p20,block_96well.wells_by_name()['A1'],20,10,10 )\n",
    "    p20.drop_tip()\n",
    "    \n",
    "    sample_wells = ['A1','B1','C1','D1','E1','F1','G1','H1',\n",
    "                   'A2','B2','C2','D2','E2','F2','G2','H2']\n",
    "    \n",
    "    for from_well, to_well in zip(sample_wells[:-1],sample_wells[1:]):\n",
    "        p20.pick_up_tip()\n",
    "        p20.aspirate(20, block_96well.wells_by_name()[from_well], rate = 2.0)\n",
    "        p20.dispense(20, block_96well.wells_by_name()[to_well], rate = 2.0 )\n",
    "        quick_mix(p20,block_96well.wells_by_name()[to_well],20,10,10)\n",
    "        p20.drop_tip()\n",
    "        \n",
    "    return p300_multi\n",
    "\n"
   ]
  },
  {
   "cell_type": "code",
   "execution_count": 19,
   "metadata": {},
   "outputs": [
    {
     "ename": "RuntimeError",
     "evalue": "API version 2.5 is not supported by this robot software. Please either reduce your requested API version or update your robot.",
     "output_type": "error",
     "traceback": [
      "\u001b[1;31m---------------------------------------------------------------------------\u001b[0m",
      "\u001b[1;31mRuntimeError\u001b[0m                              Traceback (most recent call last)",
      "\u001b[1;32m<ipython-input-19-45b88bff84c0>\u001b[0m in \u001b[0;36m<module>\u001b[1;34m\u001b[0m\n\u001b[0;32m      1\u001b[0m \u001b[1;32mfrom\u001b[0m \u001b[0mopentrons\u001b[0m \u001b[1;32mimport\u001b[0m \u001b[0msimulate\u001b[0m\u001b[1;33m\u001b[0m\u001b[1;33m\u001b[0m\u001b[0m\n\u001b[0;32m      2\u001b[0m \u001b[1;33m\u001b[0m\u001b[0m\n\u001b[1;32m----> 3\u001b[1;33m \u001b[0mprotocol\u001b[0m \u001b[1;33m=\u001b[0m \u001b[0msimulate\u001b[0m\u001b[1;33m.\u001b[0m\u001b[0mget_protocol_api\u001b[0m\u001b[1;33m(\u001b[0m\u001b[1;34m'2.5'\u001b[0m\u001b[1;33m)\u001b[0m\u001b[1;33m\u001b[0m\u001b[1;33m\u001b[0m\u001b[0m\n\u001b[0m\u001b[0;32m      4\u001b[0m \u001b[0mmetadata\u001b[0m \u001b[1;33m=\u001b[0m \u001b[1;33m{\u001b[0m\u001b[1;34m'apiLevel'\u001b[0m\u001b[1;33m:\u001b[0m \u001b[1;34m'2.5'\u001b[0m\u001b[1;33m}\u001b[0m\u001b[1;33m\u001b[0m\u001b[1;33m\u001b[0m\u001b[0m\n\u001b[0;32m      5\u001b[0m \u001b[0mx\u001b[0m \u001b[1;33m=\u001b[0m \u001b[0mrun\u001b[0m\u001b[1;33m(\u001b[0m\u001b[0mprotocol\u001b[0m\u001b[1;33m)\u001b[0m\u001b[1;33m\u001b[0m\u001b[1;33m\u001b[0m\u001b[0m\n",
      "\u001b[1;32m~\\miniconda3\\envs\\OT2\\lib\\site-packages\\opentrons\\simulate.py\u001b[0m in \u001b[0;36mget_protocol_api\u001b[1;34m(version, bundled_labware, bundled_data, extra_labware)\u001b[0m\n\u001b[0;32m    169\u001b[0m             [str(JUPYTER_NOTEBOOK_LABWARE_DIR)])\n\u001b[0;32m    170\u001b[0m     return _build_protocol_context(\n\u001b[1;32m--> 171\u001b[1;33m         checked_version, bundled_labware, bundled_data, extra_labware)\n\u001b[0m\u001b[0;32m    172\u001b[0m \u001b[1;33m\u001b[0m\u001b[0m\n\u001b[0;32m    173\u001b[0m \u001b[1;33m\u001b[0m\u001b[0m\n",
      "\u001b[1;32m~\\miniconda3\\envs\\OT2\\lib\\site-packages\\opentrons\\simulate.py\u001b[0m in \u001b[0;36m_build_protocol_context\u001b[1;34m(version, bundled_labware, bundled_data, extra_labware)\u001b[0m\n\u001b[0;32m    186\u001b[0m         \u001b[0mbundled_data\u001b[0m\u001b[1;33m=\u001b[0m\u001b[0mbundled_data\u001b[0m\u001b[1;33m,\u001b[0m\u001b[1;33m\u001b[0m\u001b[1;33m\u001b[0m\u001b[0m\n\u001b[0;32m    187\u001b[0m         \u001b[0mapi_version\u001b[0m\u001b[1;33m=\u001b[0m\u001b[0mversion\u001b[0m\u001b[1;33m,\u001b[0m\u001b[1;33m\u001b[0m\u001b[1;33m\u001b[0m\u001b[0m\n\u001b[1;32m--> 188\u001b[1;33m         extra_labware=extra_labware)\n\u001b[0m\u001b[0;32m    189\u001b[0m     \u001b[0mcontext\u001b[0m\u001b[1;33m.\u001b[0m\u001b[0mhome\u001b[0m\u001b[1;33m(\u001b[0m\u001b[1;33m)\u001b[0m\u001b[1;33m\u001b[0m\u001b[1;33m\u001b[0m\u001b[0m\n\u001b[0;32m    190\u001b[0m     \u001b[1;32mreturn\u001b[0m \u001b[0mcontext\u001b[0m\u001b[1;33m\u001b[0m\u001b[1;33m\u001b[0m\u001b[0m\n",
      "\u001b[1;32m~\\miniconda3\\envs\\OT2\\lib\\site-packages\\opentrons\\protocol_api\\protocol_context.py\u001b[0m in \u001b[0;36m__init__\u001b[1;34m(self, loop, hardware, broker, bundled_labware, bundled_data, extra_labware, api_version)\u001b[0m\n\u001b[0;32m     93\u001b[0m         \u001b[1;32mif\u001b[0m \u001b[0mself\u001b[0m\u001b[1;33m.\u001b[0m\u001b[0m_api_version\u001b[0m \u001b[1;33m>\u001b[0m \u001b[0mMAX_SUPPORTED_VERSION\u001b[0m\u001b[1;33m:\u001b[0m\u001b[1;33m\u001b[0m\u001b[1;33m\u001b[0m\u001b[0m\n\u001b[0;32m     94\u001b[0m             raise RuntimeError(\n\u001b[1;32m---> 95\u001b[1;33m                 \u001b[1;34mf'API version {self._api_version} is not supported by this '\u001b[0m\u001b[1;33m\u001b[0m\u001b[1;33m\u001b[0m\u001b[0m\n\u001b[0m\u001b[0;32m     96\u001b[0m                 \u001b[1;34mf'robot software. Please either reduce your requested API '\u001b[0m\u001b[1;33m\u001b[0m\u001b[1;33m\u001b[0m\u001b[0m\n\u001b[0;32m     97\u001b[0m                 f'version or update your robot.')\n",
      "\u001b[1;31mRuntimeError\u001b[0m: API version 2.5 is not supported by this robot software. Please either reduce your requested API version or update your robot."
     ]
    }
   ],
   "source": [
    "from opentrons import simulate\n",
    "\n",
    "protocol = simulate.get_protocol_api('2.4')\n",
    "metadata = {'apiLevel': '2.4'}\n",
    "x = run(protocol)"
   ]
  },
  {
   "cell_type": "code",
   "execution_count": null,
   "metadata": {},
   "outputs": [],
   "source": []
  }
 ],
 "metadata": {
  "kernelspec": {
   "display_name": "Python 3",
   "language": "python",
   "name": "python3"
  },
  "language_info": {
   "codemirror_mode": {
    "name": "ipython",
    "version": 3
   },
   "file_extension": ".py",
   "mimetype": "text/x-python",
   "name": "python",
   "nbconvert_exporter": "python",
   "pygments_lexer": "ipython3",
   "version": "3.7.7"
  }
 },
 "nbformat": 4,
 "nbformat_minor": 4
}
