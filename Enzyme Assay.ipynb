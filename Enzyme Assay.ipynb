{
 "cells": [
  {
   "cell_type": "code",
   "execution_count": 20,
   "metadata": {
    "scrolled": true
   },
   "outputs": [],
   "source": [
    "from opentrons import protocol_api, types\n",
    "from opentrons import containers\n",
    "import time\n",
    "import csv"
   ]
  },
  {
   "cell_type": "code",
   "execution_count": 21,
   "metadata": {},
   "outputs": [],
   "source": [
    "\n",
    "def run(protocol:protocol_api.ProtocolContext):\n",
    "    \n",
    "    \"\"\"\n",
    "    Creates 2 tip racks,1x 15 mL reservoit, 1x 24 position tube, 1x 96 position\n",
    "    \n",
    "    Transfer 100 uL \n",
    "    \"\"\"\n",
    "    # Load Tips\n",
    "    tip_20 = protocol.load_labware('opentrons_96_filtertiprack_20ul',1)\n",
    "    tip_200 = protocol.load_labware('opentrons_96_filtertiprack_200ul',2)\n",
    "    \n",
    "    #Load Liquid reservoirs\n",
    "    reservoir = protocol.load_labware('nest_12_reservoir_15ml', 4)\n",
    "    block_96well = protocol.load_labware('opentrons_96_aluminumblock_generic_pcr_strip_200ul',5)\n",
    "    \n",
    "    #Load Pipettes\n",
    "    p20 = protocol.load_instrument('p20_single_gen2', 'left', tip_racks = [tip_20])\n",
    "    p300_multi = protocol.load_instrument('p300_multi_gen2', 'right', tip_racks = [tip_200])\n",
    "\n",
    "    #Load Modules\n",
    "    thermal = protocol.load_module(\"temperature module gen2\", 9)\n",
    "    thermal_wells = thermal.load_labware('opentrons_24_aluminumblock_generic_2ml_screwcap',label=\"Enzyme Reactions\")\n",
    "    \n",
    "    # Set temperature and wait\n",
    "    thermal.set_temperature(37)\n",
    "    \n",
    "    #Designate Liquids\n",
    "    time_points = [1,5,10,20,30,60,120,240] # When to take time point measurements\n",
    "    enzyme_reactions = thermal_wells.wells()[0:3]\n",
    "    acid_solution = reservoir.wells()[0]\n",
    "    neutral_buffer = reservoir.wells()[1]\n",
    "    protocol.pause(f\"Please check: Acid at {acid_solution}, buffer at {neutral_buffer}, \" \\\n",
    "                   f\"and samples from {block_96well.wells()[0]} to {block_96well.wells()[len(time_points)*len(enzyme_reactions)]} \" \\\n",
    "                   \"Press Resume to continue\")\n",
    "\n",
    "    protocol.pause(\"Thermal is at {:.2f}. Please load samples to thermal block: {}. Press Resume to continue\".format(thermal.temperature,enzyme_reactions))\n",
    "    start_time = time.time()\n",
    "    \n",
    "\n",
    "    \n",
    "    # Be prepared to record information \n",
    "    data = {'time':[],'sample_location':[], 'enzyme_location':[],'time_of_transfer':[]}\n",
    "    file_out = open('enzyme_reaction.csv','a', newline='')\n",
    "    data_out = csv.DictWriter(file_out, data.keys())\n",
    "    data_out.writeheader()\n",
    "    \n",
    "    \n",
    "    sample_idx = 0\n",
    "    samples=[]\n",
    "    for idx, time_delay in enumerate(time_points):\n",
    "        protocol.delay(time_delay*60)\n",
    "        sample_wells = block_96well.wells()[sample_idx:sample_idx+len(enzyme_reactions)]\n",
    "        sample_idx +=1\n",
    "        p20.transfer(9, acid_solution, sample_wells)\n",
    "        samples.extend(sample_wells)\n",
    "        for enzyme_reaction, sample_well in zip(enzyme_reactions, sample_wells):\n",
    "            p20.transfer(1, [enzyme_reaction],[sample_well], new_tip = 'always', mix_after=(5,10))\n",
    "            transfer_time = time.time() - start_time\n",
    "\n",
    "            \n",
    "            # Store data in dict and write to csv\n",
    "            data['time'].append(time_delay)\n",
    "            data['time_of_transfer'].append(transfer_time)\n",
    "            data['sample_location'].append(sample_well)\n",
    "            data['enzyme_location'].append(enzyme_reaction)\n",
    "            data_out.writerow({'time':time_delay,'enzyme_location':enzyme_reaction,\n",
    "                           'time_of_transfer':transfer_time,'sample_location':sample_well})\n",
    "    \n",
    "    file_out.close()\n",
    "\n",
    "\n",
    "    #Fill the PCR tubes with samples (create the first sample, then serially dilute from that)\n",
    "    print(neutral_buffer, samples[0])\n",
    "    #p300_multi.move_to(protocol.deck.position_for('5').move(types.Point(z=100)))\n",
    "    #p300_multi.transfer(190, [neutral_buffer], samples[0], mix_after=(5,150),new_tip='always', blow_out=True)\n",
    "    \n",
    "    return (neutral_buffer, samples)"
   ]
  },
  {
   "cell_type": "code",
   "execution_count": 22,
   "metadata": {},
   "outputs": [
    {
     "name": "stderr",
     "output_type": "stream",
     "text": [
      "C:\\Users\\bvp22\\.opentrons\\deck_calibration.json not found. Loading defaults\n",
      "C:\\Users\\bvp22\\.opentrons\\robot_settings.json not found. Loading defaults\n"
     ]
    },
    {
     "name": "stdout",
     "output_type": "stream",
     "text": [
      "A2 of NEST 12 Well Reservoir 15 mL on 4 A1 of Opentrons 96 Well Aluminum Block with Generic PCR Strip 200 µL on 5\n"
     ]
    }
   ],
   "source": [
    "from opentrons import simulate\n",
    "\n",
    "protocol = simulate.get_protocol_api('2.4')\n",
    "metadata = {'apiLevel': '2.3'}\n",
    "x = run(protocol)"
   ]
  },
  {
   "cell_type": "code",
   "execution_count": null,
   "metadata": {},
   "outputs": [],
   "source": []
  }
 ],
 "metadata": {
  "kernelspec": {
   "display_name": "Python 3",
   "language": "python",
   "name": "python3"
  }
 },
 "nbformat": 4,
 "nbformat_minor": 4
}
