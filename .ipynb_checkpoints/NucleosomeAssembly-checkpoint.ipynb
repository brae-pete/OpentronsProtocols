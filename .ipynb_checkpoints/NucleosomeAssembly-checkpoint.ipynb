{
 "cells": [
  {
   "cell_type": "code",
   "execution_count": 43,
   "metadata": {},
   "outputs": [
    {
     "data": {
      "text/plain": [
       "<module 'util' from 'C:\\\\Users\\\\Simulation\\\\Documents\\\\Scripts\\\\OpentronsProtocols\\\\util.py'>"
      ]
     },
     "execution_count": 43,
     "metadata": {},
     "output_type": "execute_result"
    }
   ],
   "source": [
    "from opentrons import protocol_api\n",
    "from importlib import reload\n",
    "import util\n",
    "reload(util)\n"
   ]
  },
  {
   "cell_type": "code",
   "execution_count": 2,
   "metadata": {},
   "outputs": [
    {
     "name": "stdout",
     "output_type": "stream",
     "text": [
      "Overwriting NucleosomeAssemblyProtocol.py\n"
     ]
    }
   ],
   "source": [
    "%%writefile NucleosomeAssemblyProtocol.py \n",
    "from opentrons import protocol_api\n",
    "\n",
    "def quick_mix(pipette, well, volume, rep=3,  rate = 8.0, adj_height = 6.0, blow_out = True):\n",
    "    \"\"\" Mix the solution up and down specified number of times\n",
    "    rep = number of repetitions\n",
    "    rate = the rate to aspirate and dispense while mixing\n",
    "    adj_height = how far above the well bottom to dispense the fluid\n",
    "    \"\"\"\n",
    "    old_height = pipette.well_bottom_clearance.dispense\n",
    "    pipette.well_bottom_clearance.dispense = adj_height\n",
    "    if not pipette.hw_pipette['has_tip']:\n",
    "        pipette.pick_up_tip()\n",
    "    for i in range(rep):\n",
    "        pipette.aspirate(20, well, rate=rate)\n",
    "        pipette.dispense(20, well, rate=rate)\n",
    " \n",
    "    if blow_out:\n",
    "        pipette.blow_out()\n",
    "        \n",
    "    pipette.touch_tip()\n",
    "    pipette.well_bottom_clearance.dispense = old_height\n",
    "    pipette.drop_tip()\n",
    "\n",
    "metadata = {'apiLevel': '2.4',\n",
    "           'protocolName':'NucleosomeAssemblyProtocol',\n",
    "           'author':'Brae',\n",
    "           'description':'Epimark Nucleosome Assembly Protocol'}\n",
    "\n",
    "\n",
    "def run(protocol:protocol_api.ProtocolContext):\n",
    "    \n",
    "    \"\"\"\n",
    "    Epimark Nucleosome Assembly using the Dilution method for 50 pmol using their control DNA as a template. \n",
    "    \"\"\"\n",
    "    tip_20 = protocol.load_labware('opentrons_96_filtertiprack_20ul',1)\n",
    "    tip_200 = protocol.load_labware('opentrons_96_filtertiprack_200ul',2)\n",
    "    \n",
    "    tubes = protocol.load_labware('opentrons_24_tuberack_eppendorf_1.5ml_safelock_snapcap', 3)\n",
    "    \n",
    "    p20 = protocol.load_instrument('p20_single_gen2', 'left', tip_racks = [tip_20])\n",
    "    p300_multi = protocol.load_instrument('p300_multi_gen2', 'right', tip_racks = [tip_200])\n",
    "    \n",
    "    \n",
    "    sample = tubes.wells()[0]\n",
    "    dilution = tubes.wells()[1]\n",
    "    \n",
    "    steps = ['Step 4', 'Step 5', 'Step 6', 'Step 7']\n",
    "    transfers = [7, 13, 27, 93]\n",
    "    # Wait 30 min then add 7 uL of NaCl to 20 uL Reaction Mixture \n",
    "    for step_id, liquid in zip(steps, transfers):\n",
    "        \n",
    "        protocol.delay(minutes=0.1)\n",
    "        p20.transfer(liquid, dilution, sample, touch_tip = True, blow_out = True, )\n",
    "        quick_mix(p20, sample, 20, rep=25, rate=20, adj_height =6) # volume, speed, repetitions\n",
    "    \n",
    "    return p20"
   ]
  },
  {
   "cell_type": "code",
   "execution_count": 45,
   "metadata": {},
   "outputs": [
    {
     "name": "stderr",
     "output_type": "stream",
     "text": [
      "C:\\Users\\Simulation\\.opentrons\\deck_calibration.json not found. Loading defaults\n",
      "C:\\Users\\Simulation\\.opentrons\\robot_settings.json not found. Loading defaults\n"
     ]
    }
   ],
   "source": [
    "from opentrons import simulate\n",
    "\n",
    "protocol = simulate.get_protocol_api('2.4')\n",
    "metadata = {'apiLevel': '2.4'}\n",
    "x = run(protocol)"
   ]
  },
  {
   "cell_type": "code",
   "execution_count": 39,
   "metadata": {},
   "outputs": [
    {
     "data": {
      "text/plain": [
       "False"
      ]
     },
     "execution_count": 39,
     "metadata": {},
     "output_type": "execute_result"
    }
   ],
   "source": [
    "x.hw_pipette['has_tip']"
   ]
  },
  {
   "cell_type": "code",
   "execution_count": null,
   "metadata": {},
   "outputs": [],
   "source": []
  }
 ],
 "metadata": {
  "kernelspec": {
   "display_name": "Python 3",
   "language": "python",
   "name": "python3"
  },
  "language_info": {
   "codemirror_mode": {
    "name": "ipython",
    "version": 3
   },
   "file_extension": ".py",
   "mimetype": "text/x-python",
   "name": "python",
   "nbconvert_exporter": "python",
   "pygments_lexer": "ipython3",
   "version": "3.7.7"
  }
 },
 "nbformat": 4,
 "nbformat_minor": 4
}
