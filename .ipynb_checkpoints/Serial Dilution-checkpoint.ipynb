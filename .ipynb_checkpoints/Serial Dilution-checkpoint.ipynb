{
 "cells": [
  {
   "cell_type": "code",
   "execution_count": 3,
   "metadata": {},
   "outputs": [
    {
     "name": "stderr",
     "output_type": "stream",
     "text": [
      "C:\\Users\\Simulation\\.opentrons\\deck_calibration.json not found. Loading defaults\n",
      "C:\\Users\\Simulation\\.opentrons\\robot_settings.json not found. Loading defaults\n"
     ]
    }
   ],
   "source": [
    "from opentrons import simulate\n",
    "from util import * \n",
    "protocol = simulate.get_protocol_api('2.2')\n",
    "metadata = {'apiLevel': '2.2'}\n",
    "\n"
   ]
  },
  {
   "cell_type": "code",
   "execution_count": 4,
   "metadata": {},
   "outputs": [],
   "source": [
    "#%%writefile serial_protocol.py \n",
    "from opentrons import protocol_api\n",
    "\n",
    "metadata = {'apiLevel': '2.2'}\n",
    "\n",
    "def quick_mix(pipette, well, volume, rep=3,  rate = 8.0, adj_height = 6.0):\n",
    "    \"\"\" Mix the solution up and down specified number of times\n",
    "    rep = number of repetitions\n",
    "    rate = the rate to aspirate and dispense while mixing\n",
    "    adj_height = how far above the well bottom to dispense the fluid\n",
    "    \"\"\"\n",
    "    old_height = pipette.well_bottom_clearance.dispense\n",
    "    pipette.well_bottom_clearance.dispense = adj_height\n",
    "    for i in range(rep):\n",
    "        pipette.aspirate(20, well, rate=rate)\n",
    "        pipette.dispense(20, well, rate=rate)\n",
    "    pipette.well_bottom_clearance.dispense = old_height\n",
    "\n",
    "\n",
    "def run(protocol:protocol_api.ProtocolContext):\n",
    "    \n",
    "    \"\"\"\n",
    "    Creates 2 tip racks,1x 15 mL reservoit, 1x 24 position tube, 1x 96 position\n",
    "    \n",
    "    Transfer 100 uL \n",
    "    \"\"\"\n",
    "    tip_20 = protocol.load_labware('opentrons_96_filtertiprack_20ul',1)\n",
    "    tip_200 = protocol.load_labware('opentrons_96_filtertiprack_200ul',2)\n",
    "    \n",
    "    reservoir = protocol.load_labware('nest_12_reservoir_15ml', 3)\n",
    "    \n",
    "    block_24well = protocol.load_labware('opentrons_24_aluminumblock_nest_1.5ml_snapcap',4)\n",
    "    block_96well = protocol.load_labware('opentrons_96_aluminumblock_generic_pcr_strip_200ul',5)\n",
    "\n",
    "    p20 = protocol.load_instrument('p20_single_gen2', 'left', tip_racks = [tip_20])\n",
    "    p300_multi = protocol.load_instrument('p300_multi_gen2', 'right', tip_racks = [tip_200])\n",
    "    \n",
    "    \n",
    "    #Prepare to fill the PCR tubes, change the offset, and transfer liquid\n",
    "    p300_multi.well_bottom_clearance.dispense = 3 # Raise the tip up slightly from the bottom\n",
    "    p300_multi.well_bottom_clearance.aspirate = 3\n",
    "    \n",
    "    cols = [block_96well.columns_by_name()[well_id] for well_id in ['1','2']]\n",
    "    p300_multi.distribute(20*3,reservoir.wells_by_name()['A1'], cols)\n",
    "\n",
    "    \n",
    "    #Fill the PCR tubes with samples (create the first sample, then serially dilute from that)\n",
    "    p20.pick_up_tip()\n",
    "    p20.transfer(20, block_24well.wells_by_name()['A1'], block_96well.wells_by_name()['A1'], new_tip='never')\n",
    "    quick_mix(p20,block_96well.wells_by_name()['A1'],20,10,10 )\n",
    "    p20.drop_tip()\n",
    "    \n",
    "    sample_wells = ['A1','B1','C1','D1','E1','F1','G1','H1',\n",
    "                   'A2','B2','C2','D2','E2','F2','G2','H2']\n",
    "    \n",
    "    for from_well, to_well in zip(sample_wells[:-1],sample_wells[1:]):\n",
    "        p20.pick_up_tip()\n",
    "        p20.aspirate(20, block_96well.wells_by_name()[from_well], rate = 2.0)\n",
    "        p20.dispense(20, block_96well.wells_by_name()[to_well], rate = 2.0 )\n",
    "        quick_mix(p20,block_96well.wells_by_name()[to_well],20,10,10)\n",
    "        p20.drop_tip()\n",
    "        \n",
    "    return p300_multi"
   ]
  },
  {
   "cell_type": "code",
   "execution_count": 5,
   "metadata": {},
   "outputs": [
    {
     "name": "stderr",
     "output_type": "stream",
     "text": [
      "C:\\Users\\Simulation\\.opentrons\\deck_calibration.json not found. Loading defaults\n",
      "C:\\Users\\Simulation\\.opentrons\\robot_settings.json not found. Loading defaults\n"
     ]
    }
   ],
   "source": [
    "protocol = simulate.get_protocol_api('2.0')\n",
    "\n",
    "p300_multi = run(protocol)"
   ]
  },
  {
   "cell_type": "code",
   "execution_count": 9,
   "metadata": {},
   "outputs": [
    {
     "name": "stderr",
     "output_type": "stream",
     "text": [
      "C:\\Users\\Simulation\\.opentrons\\deck_calibration.json not found. Loading defaults\n",
      "C:\\Users\\Simulation\\.opentrons\\robot_settings.json not found. Loading defaults\n"
     ]
    }
   ],
   "source": [
    "protocol = simulate.get_protocol_api('2.0')\n",
    "\n",
    "block_96well = protocol.load_labware('opentrons_96_aluminumblock_generic_pcr_strip_200ul',5)\n",
    "\n",
    "sample_wells = [block_96well.columns_by_name()[well_id] for well_id in ['1','2']]"
   ]
  },
  {
   "cell_type": "code",
   "execution_count": 11,
   "metadata": {},
   "outputs": [
    {
     "data": {
      "text/plain": [
       "[[A1 of Opentrons 96 Well Aluminum Block with Generic PCR Strip 200 µL on 5,\n",
       "  B1 of Opentrons 96 Well Aluminum Block with Generic PCR Strip 200 µL on 5,\n",
       "  C1 of Opentrons 96 Well Aluminum Block with Generic PCR Strip 200 µL on 5,\n",
       "  D1 of Opentrons 96 Well Aluminum Block with Generic PCR Strip 200 µL on 5,\n",
       "  E1 of Opentrons 96 Well Aluminum Block with Generic PCR Strip 200 µL on 5,\n",
       "  F1 of Opentrons 96 Well Aluminum Block with Generic PCR Strip 200 µL on 5,\n",
       "  G1 of Opentrons 96 Well Aluminum Block with Generic PCR Strip 200 µL on 5,\n",
       "  H1 of Opentrons 96 Well Aluminum Block with Generic PCR Strip 200 µL on 5],\n",
       " [A2 of Opentrons 96 Well Aluminum Block with Generic PCR Strip 200 µL on 5,\n",
       "  B2 of Opentrons 96 Well Aluminum Block with Generic PCR Strip 200 µL on 5,\n",
       "  C2 of Opentrons 96 Well Aluminum Block with Generic PCR Strip 200 µL on 5,\n",
       "  D2 of Opentrons 96 Well Aluminum Block with Generic PCR Strip 200 µL on 5,\n",
       "  E2 of Opentrons 96 Well Aluminum Block with Generic PCR Strip 200 µL on 5,\n",
       "  F2 of Opentrons 96 Well Aluminum Block with Generic PCR Strip 200 µL on 5,\n",
       "  G2 of Opentrons 96 Well Aluminum Block with Generic PCR Strip 200 µL on 5,\n",
       "  H2 of Opentrons 96 Well Aluminum Block with Generic PCR Strip 200 µL on 5]]"
      ]
     },
     "execution_count": 11,
     "metadata": {},
     "output_type": "execute_result"
    }
   ],
   "source": [
    "import numpy as np"
   ]
  },
  {
   "cell_type": "code",
   "execution_count": 4,
   "metadata": {},
   "outputs": [
    {
     "name": "stdout",
     "output_type": "stream",
     "text": [
      "sample 0 is 166.66666666666666 nM\n",
      "sample 1 is 55.55555555555555 nM\n",
      "sample 2 is 18.518518518518515 nM\n",
      "sample 3 is 6.1728395061728385 nM\n",
      "sample 4 is 2.0576131687242794 nM\n",
      "sample 5 is 0.6858710562414264 nM\n",
      "sample 6 is 0.2286236854138088 nM\n",
      "sample 7 is 0.07620789513793627 nM\n"
     ]
    }
   ],
   "source": [
    "conc = 500\n",
    "for i in range(8):\n",
    "    conc = conc * 1/3\n",
    "    print(f\"sample {i} is {conc} nM\")"
   ]
  },
  {
   "cell_type": "code",
   "execution_count": null,
   "metadata": {},
   "outputs": [],
   "source": []
  }
 ],
 "metadata": {
  "kernelspec": {
   "display_name": "Python 3",
   "language": "python",
   "name": "python3"
  },
  "language_info": {
   "codemirror_mode": {
    "name": "ipython",
    "version": 3
   },
   "file_extension": ".py",
   "mimetype": "text/x-python",
   "name": "python",
   "nbconvert_exporter": "python",
   "pygments_lexer": "ipython3",
   "version": "3.7.7"
  }
 },
 "nbformat": 4,
 "nbformat_minor": 4
}
