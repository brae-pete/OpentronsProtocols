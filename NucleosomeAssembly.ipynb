{
 "cells": [
  {
   "cell_type": "code",
   "execution_count": 2,
   "metadata": {},
   "outputs": [
    {
     "name": "stdout",
     "output_type": "stream",
     "text": [
      "Loading json containers...\n",
      "Json container file load complete, listing database\n",
      "Found 0 containers to add. Starting migration...\n",
      "Database migration complete!\n"
     ]
    }
   ],
   "source": [
    "from opentrons import protocol_api"
   ]
  },
  {
   "cell_type": "code",
   "execution_count": null,
   "metadata": {},
   "outputs": [],
   "source": [
    "def quick_mix(*args)\n",
    "\n",
    "    pass"
   ]
  },
  {
   "cell_type": "code",
   "execution_count": 3,
   "metadata": {},
   "outputs": [],
   "source": [
    "def run(protocol:protocol_api.ProtocolContext):\n",
    "    \n",
    "    \"\"\"\n",
    "    Epimark Nucleosome Assembly using the Dilution method. \n",
    "    \"\"\"\n",
    "    tip_20 = protocol.load_labware('opentrons_96_filtertiprack_20ul',1)\n",
    "    tip_200 = protocol.load_labware('opentrons_96_filtertiprack_200ul',2)\n",
    "    \n",
    "    tubes = protocol.load_labware('opentrons_24_tuberack_eppendorf_1.5ml_safelock_snapcap', 3)\n",
    "    \n",
    "    p20 = protocol.load_instrument('p20_single_gen2', 'left', tip_racks = [tip_20])\n",
    "    p300_multi = protocol.load_instrument('p300_multi_gen2', 'right', tip_racks = [tip_200])\n",
    "    \n",
    "    \n",
    "    sample = tubes.wells()[0]\n",
    "    dilution = tubes.wells()[1]\n",
    "    \n",
    "    steps = ['Step 4', 'Step 5', 'Step 6', 'Step 7']\n",
    "    transfers = [7, 13, 27, 93]\n",
    "    # Wait 30 min then add 7 uL of NaCl to 20 uL Reaction Mixture \n",
    "    for step_id, liquid in zip(steps, transfers):\n",
    "        \n",
    "        protocol.delay(minutes=30)\n",
    "        p20.transfer(liquid, dilution, sample)\n",
    "        quick_mix(20, 10, 20) # volume, speed, repetitions\n",
    "        \n",
    "    \n",
    "    return p300_multi"
   ]
  },
  {
   "cell_type": "code",
   "execution_count": null,
   "metadata": {},
   "outputs": [],
   "source": []
  }
 ],
 "metadata": {
  "kernelspec": {
   "display_name": "Python 3",
   "language": "python",
   "name": "python3"
  },
  "language_info": {
   "codemirror_mode": {
    "name": "ipython",
    "version": 3
   },
   "file_extension": ".py",
   "mimetype": "text/x-python",
   "name": "python",
   "nbconvert_exporter": "python",
   "pygments_lexer": "ipython3",
   "version": "3.7.7"
  }
 },
 "nbformat": 4,
 "nbformat_minor": 4
}
