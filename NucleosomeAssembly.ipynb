{
 "cells": [
  {
   "cell_type": "code",
   "execution_count": 9,
   "metadata": {},
   "outputs": [],
   "source": [
    "from opentrons import protocol_api"
   ]
  },
  {
   "cell_type": "code",
   "execution_count": 10,
   "metadata": {},
   "outputs": [],
   "source": [
    "def quick_mix(*args):\n",
    "\n",
    "    pass"
   ]
  },
  {
   "cell_type": "code",
   "execution_count": 11,
   "metadata": {},
   "outputs": [],
   "source": [
    "def run(protocol:protocol_api.ProtocolContext):\n",
    "    \n",
    "    \"\"\"\n",
    "    Epimark Nucleosome Assembly using the Dilution method for 50 pmol using their control DNA as a template. \n",
    "    \"\"\"\n",
    "    tip_20 = protocol.load_labware('opentrons_96_filtertiprack_20ul',1)\n",
    "    tip_200 = protocol.load_labware('opentrons_96_filtertiprack_200ul',2)\n",
    "    \n",
    "    tubes = protocol.load_labware('opentrons_24_tuberack_eppendorf_1.5ml_safelock_snapcap', 3)\n",
    "    \n",
    "    p20 = protocol.load_instrument('p20_single_gen2', 'left', tip_racks = [tip_20])\n",
    "    p300_multi = protocol.load_instrument('p300_multi_gen2', 'right', tip_racks = [tip_200])\n",
    "    \n",
    "    \n",
    "    sample = tubes.wells()[0]\n",
    "    dilution = tubes.wells()[1]\n",
    "    \n",
    "    steps = ['Step 4', 'Step 5', 'Step 6', 'Step 7']\n",
    "    transfers = [7, 13, 27, 93]\n",
    "    # Wait 30 min then add 7 uL of NaCl to 20 uL Reaction Mixture \n",
    "    for step_id, liquid in zip(steps, transfers):\n",
    "        \n",
    "        protocol.delay(minutes=30)\n",
    "        p20.transfer(liquid, dilution, sample)\n",
    "        quick_mix(20, 10, 20) # volume, speed, repetitions\n",
    "        \n",
    "    \n",
    "    return p300_multi"
   ]
  },
  {
   "cell_type": "code",
   "execution_count": 12,
   "metadata": {},
   "outputs": [
    {
     "name": "stderr",
     "output_type": "stream",
     "text": [
      "C:\\Users\\bvp22\\.opentrons\\deck_calibration.json not found. Loading defaults\n",
      "C:\\Users\\bvp22\\.opentrons\\robot_settings.json not found. Loading defaults\n"
     ]
    }
   ],
   "source": [
    "from opentrons import simulate\n",
    "\n",
    "protocol = simulate.get_protocol_api('2.4')\n",
    "metadata = {'apiLevel': '2.4'}\n",
    "x = run(protocol)"
   ]
  },
  {
   "cell_type": "code",
   "execution_count": 13,
   "metadata": {},
   "outputs": [
    {
     "data": {
      "text/plain": [
       "['Delaying for 30 minutes and 0 seconds',\n",
       " 'Transferring 7.0 from B1 of Opentrons 24 Tube Rack with Eppendorf 1.5 mL Safe-Lock Snapcap on 3 to A1 of Opentrons 24 Tube Rack with Eppendorf 1.5 mL Safe-Lock Snapcap on 3',\n",
       " 'Picking up tip from A1 of Opentrons 96 Filter Tip Rack 20 µL on 1',\n",
       " 'Aspirating 7.0 uL from B1 of Opentrons 24 Tube Rack with Eppendorf 1.5 mL Safe-Lock Snapcap on 3 at 1.0 speed',\n",
       " 'Dispensing 7.0 uL into A1 of Opentrons 24 Tube Rack with Eppendorf 1.5 mL Safe-Lock Snapcap on 3 at 1.0 speed',\n",
       " 'Dropping tip into A1 of Opentrons Fixed Trash on 12',\n",
       " 'Delaying for 30 minutes and 0 seconds',\n",
       " 'Transferring 13.0 from B1 of Opentrons 24 Tube Rack with Eppendorf 1.5 mL Safe-Lock Snapcap on 3 to A1 of Opentrons 24 Tube Rack with Eppendorf 1.5 mL Safe-Lock Snapcap on 3',\n",
       " 'Picking up tip from B1 of Opentrons 96 Filter Tip Rack 20 µL on 1',\n",
       " 'Aspirating 13.0 uL from B1 of Opentrons 24 Tube Rack with Eppendorf 1.5 mL Safe-Lock Snapcap on 3 at 1.0 speed',\n",
       " 'Dispensing 13.0 uL into A1 of Opentrons 24 Tube Rack with Eppendorf 1.5 mL Safe-Lock Snapcap on 3 at 1.0 speed',\n",
       " 'Dropping tip into A1 of Opentrons Fixed Trash on 12',\n",
       " 'Delaying for 30 minutes and 0 seconds',\n",
       " 'Transferring 27.0 from B1 of Opentrons 24 Tube Rack with Eppendorf 1.5 mL Safe-Lock Snapcap on 3 to A1 of Opentrons 24 Tube Rack with Eppendorf 1.5 mL Safe-Lock Snapcap on 3',\n",
       " 'Picking up tip from C1 of Opentrons 96 Filter Tip Rack 20 µL on 1',\n",
       " 'Aspirating 13.5 uL from B1 of Opentrons 24 Tube Rack with Eppendorf 1.5 mL Safe-Lock Snapcap on 3 at 1.0 speed',\n",
       " 'Dispensing 13.5 uL into A1 of Opentrons 24 Tube Rack with Eppendorf 1.5 mL Safe-Lock Snapcap on 3 at 1.0 speed',\n",
       " 'Aspirating 13.5 uL from B1 of Opentrons 24 Tube Rack with Eppendorf 1.5 mL Safe-Lock Snapcap on 3 at 1.0 speed',\n",
       " 'Dispensing 13.5 uL into A1 of Opentrons 24 Tube Rack with Eppendorf 1.5 mL Safe-Lock Snapcap on 3 at 1.0 speed',\n",
       " 'Dropping tip into A1 of Opentrons Fixed Trash on 12',\n",
       " 'Delaying for 30 minutes and 0 seconds',\n",
       " 'Transferring 93.0 from B1 of Opentrons 24 Tube Rack with Eppendorf 1.5 mL Safe-Lock Snapcap on 3 to A1 of Opentrons 24 Tube Rack with Eppendorf 1.5 mL Safe-Lock Snapcap on 3',\n",
       " 'Picking up tip from D1 of Opentrons 96 Filter Tip Rack 20 µL on 1',\n",
       " 'Aspirating 20.0 uL from B1 of Opentrons 24 Tube Rack with Eppendorf 1.5 mL Safe-Lock Snapcap on 3 at 1.0 speed',\n",
       " 'Dispensing 20.0 uL into A1 of Opentrons 24 Tube Rack with Eppendorf 1.5 mL Safe-Lock Snapcap on 3 at 1.0 speed',\n",
       " 'Aspirating 20.0 uL from B1 of Opentrons 24 Tube Rack with Eppendorf 1.5 mL Safe-Lock Snapcap on 3 at 1.0 speed',\n",
       " 'Dispensing 20.0 uL into A1 of Opentrons 24 Tube Rack with Eppendorf 1.5 mL Safe-Lock Snapcap on 3 at 1.0 speed',\n",
       " 'Aspirating 20.0 uL from B1 of Opentrons 24 Tube Rack with Eppendorf 1.5 mL Safe-Lock Snapcap on 3 at 1.0 speed',\n",
       " 'Dispensing 20.0 uL into A1 of Opentrons 24 Tube Rack with Eppendorf 1.5 mL Safe-Lock Snapcap on 3 at 1.0 speed',\n",
       " 'Aspirating 16.5 uL from B1 of Opentrons 24 Tube Rack with Eppendorf 1.5 mL Safe-Lock Snapcap on 3 at 1.0 speed',\n",
       " 'Dispensing 16.5 uL into A1 of Opentrons 24 Tube Rack with Eppendorf 1.5 mL Safe-Lock Snapcap on 3 at 1.0 speed',\n",
       " 'Aspirating 16.5 uL from B1 of Opentrons 24 Tube Rack with Eppendorf 1.5 mL Safe-Lock Snapcap on 3 at 1.0 speed',\n",
       " 'Dispensing 16.5 uL into A1 of Opentrons 24 Tube Rack with Eppendorf 1.5 mL Safe-Lock Snapcap on 3 at 1.0 speed',\n",
       " 'Dropping tip into A1 of Opentrons Fixed Trash on 12']"
      ]
     },
     "execution_count": 13,
     "metadata": {},
     "output_type": "execute_result"
    }
   ],
   "source": [
    "protocol.commands()"
   ]
  },
  {
   "cell_type": "code",
   "execution_count": null,
   "metadata": {},
   "outputs": [],
   "source": []
  }
 ],
 "metadata": {
  "kernelspec": {
   "display_name": "Python 3",
   "language": "python",
   "name": "python3"
  },
  "language_info": {
   "codemirror_mode": {
    "name": "ipython",
    "version": 3
   },
   "file_extension": ".py",
   "mimetype": "text/x-python",
   "name": "python",
   "nbconvert_exporter": "python",
   "pygments_lexer": "ipython3",
   "version": "3.7.7"
  }
 },
 "nbformat": 4,
 "nbformat_minor": 4
}
